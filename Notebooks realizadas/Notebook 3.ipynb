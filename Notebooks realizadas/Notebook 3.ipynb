{
 "cells": [
  {
   "cell_type": "markdown",
   "metadata": {
    "id": "fUZUxG1CfJKo"
   },
   "source": [
    "# Programa Ingenias+ Data Science"
   ]
  },
  {
   "cell_type": "markdown",
   "metadata": {
    "id": "ZfnZX-ohfJOA"
   },
   "source": [
    "## Clase 2: Funciones y Estructuras de control"
   ]
  },
  {
   "cell_type": "markdown",
   "metadata": {
    "id": "2x9qTs74fJOx"
   },
   "source": [
    "## EJERCICIOS"
   ]
  },
  {
   "cell_type": "markdown",
   "metadata": {
    "id": "KG9ZCYugfJOx"
   },
   "source": [
    "Vamos a poner en practica ahora todo lo que vimos:"
   ]
  },
  {
   "cell_type": "markdown",
   "metadata": {
    "id": "-x2byZQ8fJOx"
   },
   "source": [
    "- Escribi una función que tome dos números enteros y calcule su división, devolviendo si la división es exacta o no."
   ]
  },
  {
   "cell_type": "code",
   "execution_count": 2,
   "metadata": {
    "id": "7vslfcCNfJOy"
   },
   "outputs": [],
   "source": [
    "def division (a, b):\n",
    "       resultado = a / b\n",
    "       return resultado"
   ]
  },
  {
   "cell_type": "code",
   "execution_count": 3,
   "metadata": {
    "id": "8OqSS2zmfJOz"
   },
   "outputs": [
    {
     "name": "stdout",
     "output_type": "stream",
     "text": [
      "2.0\n"
     ]
    }
   ],
   "source": [
    "print(division(4, 2))"
   ]
  },
  {
   "cell_type": "code",
   "execution_count": 4,
   "metadata": {
    "id": "7lgngWV4fJO1"
   },
   "outputs": [
    {
     "data": {
      "text/plain": [
       "2.3333333333333335"
      ]
     },
     "execution_count": 4,
     "metadata": {},
     "output_type": "execute_result"
    }
   ],
   "source": [
    "division(7, 3)"
   ]
  },
  {
   "cell_type": "markdown",
   "metadata": {
    "id": "-e0DATp4fJO3"
   },
   "source": [
    "- Escribi una función que tome un año y devuelva si es bisiesto o no."
   ]
  },
  {
   "cell_type": "code",
   "execution_count": null,
   "metadata": {
    "id": "xUetTz2jfJO3"
   },
   "outputs": [],
   "source": [
    "def bisiesto(a):\n",
    " \n",
    "    if (a % 4 == 0 and a % 100 != 0) or (a % 400 == 0):\n",
    "        return True\n",
    "    else:\n",
    "        return False"
   ]
  },
  {
   "cell_type": "code",
   "execution_count": null,
   "metadata": {
    "id": "ONRDSQgVfJO4"
   },
   "outputs": [],
   "source": [
    "print(bisiesto(2012))"
   ]
  },
  {
   "cell_type": "code",
   "execution_count": null,
   "metadata": {
    "id": "ov_XeD1WfJO5"
   },
   "outputs": [],
   "source": [
    "print(bisiesto(2017))"
   ]
  },
  {
   "cell_type": "markdown",
   "metadata": {
    "id": "urIjk2uPfJO7"
   },
   "source": [
    "- Escribi una función que tome los coeficientes de una ecuación de primer grado (a x + b = 0) y devuelva la solución."
   ]
  },
  {
   "cell_type": "code",
   "execution_count": 5,
   "metadata": {
    "id": "MIqaoDZqfJO7"
   },
   "outputs": [
    {
     "name": "stdout",
     "output_type": "stream",
     "text": [
      "La solución de la ecuación 2x + -4 = 0 es: x = 2.0\n",
      "La solución de la ecuación 2x + -4 = 0 es: x = 2.0\n"
     ]
    }
   ],
   "source": [
    "def solucion(a, b):\n",
    "    if a == 0:\n",
    "       raise ValueError(\"El coeficiente 'a' no puede ser cero.\")\n",
    "    else:\n",
    "       return -b / a\n",
    "#Ejemplo    \n",
    "a = 2\n",
    "b = -4\n",
    "resultado = solucion(a, b)\n",
    "print(f\"La solución de la ecuación {a}x + {b} = 0 es: x = {resultado}\") \n",
    "#Otra forma de llamar a format-string\n",
    "print(\"La solución de la ecuación {}x + {} = 0 es: x = {}\".format(a, b, resultado))"
   ]
  },
  {
   "cell_type": "code",
   "execution_count": 6,
   "metadata": {
    "id": "YljqjJuTfJO8"
   },
   "outputs": [
    {
     "name": "stdout",
     "output_type": "stream",
     "text": [
      "La solución de la ecuación 2x + -4 = 0 es: x = -2.0\n"
     ]
    }
   ],
   "source": [
    "resultado = solucion(2, 4)\n",
    "print(f\"La solución de la ecuación {a}x + {b} = 0 es: x = {resultado}\") "
   ]
  },
  {
   "cell_type": "code",
   "execution_count": 7,
   "metadata": {
    "id": "mIe9eoP5fJO_"
   },
   "outputs": [
    {
     "name": "stdout",
     "output_type": "stream",
     "text": [
      "La solución de la ecuación 2x + -4 = 0 es: x = -1.6666666666666667\n"
     ]
    }
   ],
   "source": [
    "resultado = solucion(3, 5)\n",
    "print(f\"La solución de la ecuación {a}x + {b} = 0 es: x = {resultado}\") "
   ]
  },
  {
   "cell_type": "code",
   "execution_count": 8,
   "metadata": {
    "id": "djuJakLUfJPB"
   },
   "outputs": [
    {
     "name": "stdout",
     "output_type": "stream",
     "text": [
      "La solución de la ecuación 2x + -4 = 0 es: x = 0.0\n"
     ]
    }
   ],
   "source": [
    "resultado = solucion(2, 0)\n",
    "print(f\"La solución de la ecuación {a}x + {b} = 0 es: x = {resultado}\") "
   ]
  },
  {
   "cell_type": "markdown",
   "metadata": {
    "id": "Xx7VliisfJPF"
   },
   "source": [
    "- Escribi una función que simule un juego en el que dos jugadores tiran un dado. El que saque el valor más alto, gana. Si la puntuación coincide, empatan."
   ]
  },
  {
   "cell_type": "code",
   "execution_count": 9,
   "metadata": {
    "id": "LCrq4FUPfJPF"
   },
   "outputs": [
    {
     "name": "stdout",
     "output_type": "stream",
     "text": [
      "El jugador 1 tira el dado y obtiene: 6\n",
      "El jugador 2 tira el dado y obtiene: 3\n",
      "¡El jugador 1 gana!\n"
     ]
    }
   ],
   "source": [
    "import random\n",
    "\n",
    "def juego(jugador1, jugador2):\n",
    "\n",
    "    # Mostrar los resultados de los dados\n",
    "    print(f\"El jugador 1 tira el dado y obtiene: {jugador1}\")\n",
    "    print(f\"El jugador 2 tira el dado y obtiene: {jugador2}\")\n",
    "    \n",
    "    # Determinar el resultado del juego\n",
    "    if jugador1 > jugador2:\n",
    "        print(\"¡El jugador 1 gana!\")\n",
    "    elif jugador2 > jugador1:\n",
    "        print(\"¡El jugador 2 gana!\")\n",
    "    else:\n",
    "        print(\"¡Empate!\")\n",
    "    \n",
    "# Simular tirada de dados\n",
    "tirada_jugador1 = random.randint(1, 6)\n",
    "tirada_jugador2 = random.randint(1, 6)\n",
    "\n",
    "# Ejecutar la función con los valores de los dados\n",
    "juego(tirada_jugador1, tirada_jugador2)"
   ]
  },
  {
   "cell_type": "code",
   "execution_count": 10,
   "metadata": {
    "id": "H89mIbuEfJPH"
   },
   "outputs": [
    {
     "name": "stdout",
     "output_type": "stream",
     "text": [
      "El jugador 1 tira el dado y obtiene: 343\n",
      "El jugador 2 tira el dado y obtiene: 545\n",
      "¡El jugador 2 gana!\n"
     ]
    }
   ],
   "source": [
    "juego(343, 545)"
   ]
  },
  {
   "cell_type": "markdown",
   "metadata": {
    "id": "7Q28d5YdfJPJ"
   },
   "source": [
    "- Escribi una función que tome dos números enteros y devuelva qué número es pares y cuál impar."
   ]
  },
  {
   "cell_type": "code",
   "execution_count": 11,
   "metadata": {
    "id": "VhDwji65fJPJ"
   },
   "outputs": [
    {
     "name": "stdout",
     "output_type": "stream",
     "text": [
      "5 es un número impar\n",
      "10 es un número par\n"
     ]
    }
   ],
   "source": [
    "def par_impar(num1, num2):\n",
    "    if num1 % 2 == 0:\n",
    "        print(f\"{num1} es un número par\")\n",
    "    else:\n",
    "        print(f\"{num1} es un número impar\")\n",
    "        \n",
    "    if num2 % 2 == 0:\n",
    "        print(f\"{num2} es un número par\")\n",
    "    else:\n",
    "        print(f\"{num2} es un número impar\")\n",
    "\n",
    "# Ejemplo \n",
    "par_impar(7, 10)\n",
    "  "
   ]
  },
  {
   "cell_type": "code",
   "execution_count": 12,
   "metadata": {
    "id": "VRuaAWzsfJPK"
   },
   "outputs": [
    {
     "name": "stdout",
     "output_type": "stream",
     "text": [
      "4 es un número par\n",
      "5 es un número impar\n"
     ]
    }
   ],
   "source": [
    "par_impar(4, 5)"
   ]
  },
  {
   "cell_type": "code",
   "execution_count": 13,
   "metadata": {
    "id": "caJU7DCSfJPM"
   },
   "outputs": [
    {
     "name": "stdout",
     "output_type": "stream",
     "text": [
      "4 es un número par\n",
      "10 es un número par\n"
     ]
    }
   ],
   "source": [
    "par_impar(4, 10)"
   ]
  },
  {
   "cell_type": "markdown",
   "metadata": {
    "id": "nuyiy5nKfJPN"
   },
   "source": [
    "- Escribi una función que tome una lista de números y calcule su suma."
   ]
  },
  {
   "cell_type": "code",
   "execution_count": 15,
   "metadata": {
    "id": "JmMLvO3WfJPN"
   },
   "outputs": [
    {
     "name": "stdout",
     "output_type": "stream",
     "text": [
      "La suma de los números es: 15\n"
     ]
    }
   ],
   "source": [
    "def suma_numeros(lista):\n",
    "    suma = sum(lista)\n",
    "    return suma\n",
    "\n",
    "# Ejemplo \n",
    "numeros = [1, 2, 3, 4, 5]\n",
    "resultado = suma_numeros(numeros)\n",
    "print(\"La suma de los números es:\", resultado)"
   ]
  },
  {
   "cell_type": "code",
   "execution_count": 16,
   "metadata": {
    "id": "05ANj-TsfJPP"
   },
   "outputs": [
    {
     "name": "stdout",
     "output_type": "stream",
     "text": [
      "La suma de los números es: 34\n"
     ]
    }
   ],
   "source": [
    "resultado = suma_numeros([1, 4, 5, 7, 8, 9])\n",
    "print(f\"La suma de los números es: {resultado}\")"
   ]
  },
  {
   "cell_type": "markdown",
   "metadata": {
    "id": "xOFXV3tnfJPR"
   },
   "source": [
    "- Escribi una función que tome dos palabras y diga si riman o no. Si coinciden las tres últimas letras debe devolver que riman. Si coinciden sólo las dos últimas tiene que decir que riman algo y si no, que no riman."
   ]
  },
  {
   "cell_type": "code",
   "execution_count": 17,
   "metadata": {
    "id": "hPKmJVrAfJPR"
   },
   "outputs": [],
   "source": [
    "def riman(palabra1, palabra2):\n",
    "    # Obtener las últimas tres letras de cada palabra\n",
    "    ultimas_letras_palabra1 = palabra1[-3:]\n",
    "    ultimas_letras_palabra2 = palabra2[-3:]\n",
    "\n",
    "    # Verificar si coinciden las tres últimas letras\n",
    "    if ultimas_letras_palabra1 == ultimas_letras_palabra2:\n",
    "        return \"Las palabras riman\"\n",
    "    # Verificar si coinciden las dos últimas letras\n",
    "    elif ultimas_letras_palabra1[-2:] == ultimas_letras_palabra2[-2:]:\n",
    "        return \"Las palabras riman algo\"\n",
    "    else:\n",
    "        return \"Las palabras no riman\""
   ]
  },
  {
   "cell_type": "code",
   "execution_count": 18,
   "metadata": {
    "id": "8UZO4wYZfJPT"
   },
   "outputs": [
    {
     "data": {
      "text/plain": [
       "'Las palabras riman'"
      ]
     },
     "execution_count": 18,
     "metadata": {},
     "output_type": "execute_result"
    }
   ],
   "source": [
    "# Se modifican los argumentos palabra1 y palabra2\n",
    "riman('hola', 'cacerola')"
   ]
  },
  {
   "cell_type": "code",
   "execution_count": 19,
   "metadata": {
    "id": "FwYgQ00nfJPU"
   },
   "outputs": [
    {
     "data": {
      "text/plain": [
       "'Las palabras no riman'"
      ]
     },
     "execution_count": 19,
     "metadata": {},
     "output_type": "execute_result"
    }
   ],
   "source": [
    "riman('jirafa', 'roja')"
   ]
  },
  {
   "cell_type": "code",
   "execution_count": 20,
   "metadata": {
    "id": "rtz4a7zefJPX"
   },
   "outputs": [
    {
     "data": {
      "text/plain": [
       "'Las palabras riman algo'"
      ]
     },
     "execution_count": 20,
     "metadata": {},
     "output_type": "execute_result"
    }
   ],
   "source": [
    "riman('computadora', 'cabecera')"
   ]
  },
  {
   "cell_type": "markdown",
   "metadata": {
    "id": "0yxZUZHmfJPZ"
   },
   "source": [
    "- Escribi una función para convertir temperatura de grados celsius a fahrenheit (Formula : F = C * 9/5 + 32) "
   ]
  },
  {
   "cell_type": "code",
   "execution_count": 22,
   "metadata": {
    "id": "1d8jR5L9fJPZ"
   },
   "outputs": [],
   "source": [
    "def convert_grados(gradosCelsius):\n",
    "    gradosFahrenheit = gradosCelsius * 9/5 +32\n",
    "    return gradosFahrenheit\n"
   ]
  },
  {
   "cell_type": "code",
   "execution_count": 26,
   "metadata": {
    "id": "velR3kdDfJPa"
   },
   "outputs": [
    {
     "name": "stdout",
     "output_type": "stream",
     "text": [
      "24 grados Celsius equivalen a 75.2 grados Fahrenheit\n"
     ]
    }
   ],
   "source": [
    "temperatura_fahrenheit = convert_grados(24)\n",
    "print(f\"24 grados Celsius equivalen a {temperatura_fahrenheit} grados Fahrenheit\")"
   ]
  },
  {
   "cell_type": "markdown",
   "metadata": {
    "id": "OXCTEla-fJPb"
   },
   "source": [
    "- Escribi una función que devuelva la serie de Fibonacci entre 0 y 50."
   ]
  },
  {
   "cell_type": "code",
   "execution_count": null,
   "metadata": {
    "id": "lJTvAwsFfJPb"
   },
   "outputs": [],
   "source": [
    "def fibo():\n",
    "  "
   ]
  },
  {
   "cell_type": "code",
   "execution_count": null,
   "metadata": {
    "id": "R8X2RFUefJPd"
   },
   "outputs": [],
   "source": [
    "fibo()"
   ]
  },
  {
   "cell_type": "markdown",
   "metadata": {
    "id": "oLq0uXoIfJPe"
   },
   "source": [
    "**Para seguir practicando chequea este sitio web con [ejercicios](https://projecteuler.net/archives).**"
   ]
  }
 ],
 "metadata": {
  "colab": {
   "provenance": [
    {
     "file_id": "1y0F1NfHcl24-L2U7pLhyNjXsajmShQa_",
     "timestamp": 1675997505964
    },
    {
     "file_id": "1Z-EaHwD0sQ2kr0CywLaUa5jPFDr3Hgfq",
     "timestamp": 1675997393159
    }
   ]
  },
  "kernelspec": {
   "display_name": "Python 3 (ipykernel)",
   "language": "python",
   "name": "python3"
  },
  "language_info": {
   "codemirror_mode": {
    "name": "ipython",
    "version": 3
   },
   "file_extension": ".py",
   "mimetype": "text/x-python",
   "name": "python",
   "nbconvert_exporter": "python",
   "pygments_lexer": "ipython3",
   "version": "3.11.7"
  }
 },
 "nbformat": 4,
 "nbformat_minor": 4
}
